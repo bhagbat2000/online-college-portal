{
 "cells": [
  {
   "cell_type": "code",
   "execution_count": 1,
   "metadata": {},
   "outputs": [
    {
     "name": "stdout",
     "output_type": "stream",
     "text": [
      "['bg.jpg', 'gan.jpg', 'jash.jpeg', 'kaushik.jpg', 'Maya.jpg', 'WIN_20210115_19_24_10_Pro.jpg']\n",
      "['bg', 'gan', 'jash', 'kaushik', 'Maya', 'WIN_20210115_19_24_10_Pro']\n",
      "Encoding complete\n"
     ]
    },
    {
     "ename": "ValueError",
     "evalue": "operands could not be broadcast together with shapes (6,) (128,) ",
     "output_type": "error",
     "traceback": [
      "\u001b[1;31m---------------------------------------------------------------------------\u001b[0m",
      "\u001b[1;31mValueError\u001b[0m                                Traceback (most recent call last)",
      "\u001b[1;32m<ipython-input-1-9bd67d68ca4e>\u001b[0m in \u001b[0;36m<module>\u001b[1;34m\u001b[0m\n\u001b[0;32m     57\u001b[0m \u001b[1;33m\u001b[0m\u001b[0m\n\u001b[0;32m     58\u001b[0m     \u001b[1;32mfor\u001b[0m \u001b[0mencodeFace\u001b[0m\u001b[1;33m,\u001b[0m\u001b[0mfaceLoc\u001b[0m \u001b[1;32min\u001b[0m \u001b[0mzip\u001b[0m\u001b[1;33m(\u001b[0m\u001b[0mencodesCurFrame\u001b[0m\u001b[1;33m,\u001b[0m\u001b[0mfacesCurFrame\u001b[0m\u001b[1;33m)\u001b[0m\u001b[1;33m:\u001b[0m\u001b[1;33m\u001b[0m\u001b[1;33m\u001b[0m\u001b[0m\n\u001b[1;32m---> 59\u001b[1;33m         \u001b[0mmatches\u001b[0m\u001b[1;33m=\u001b[0m  \u001b[0mface_recognition\u001b[0m\u001b[1;33m.\u001b[0m\u001b[0mcompare_faces\u001b[0m\u001b[1;33m(\u001b[0m\u001b[0mencodeListKnown\u001b[0m\u001b[1;33m,\u001b[0m\u001b[0mencodeFace\u001b[0m\u001b[1;33m)\u001b[0m\u001b[1;33m\u001b[0m\u001b[1;33m\u001b[0m\u001b[0m\n\u001b[0m\u001b[0;32m     60\u001b[0m         \u001b[0mfaceDis\u001b[0m \u001b[1;33m=\u001b[0m \u001b[0mface_recognition\u001b[0m\u001b[1;33m.\u001b[0m\u001b[0mface_distance\u001b[0m\u001b[1;33m(\u001b[0m\u001b[0mencodeListKnown\u001b[0m\u001b[1;33m,\u001b[0m\u001b[0mencodeFace\u001b[0m\u001b[1;33m)\u001b[0m\u001b[1;33m\u001b[0m\u001b[1;33m\u001b[0m\u001b[0m\n\u001b[0;32m     61\u001b[0m         \u001b[1;31m#print(faceDis)\u001b[0m\u001b[1;33m\u001b[0m\u001b[1;33m\u001b[0m\u001b[1;33m\u001b[0m\u001b[0m\n",
      "\u001b[1;32m~\\Anaconda3\\lib\\site-packages\\face_recognition\\api.py\u001b[0m in \u001b[0;36mcompare_faces\u001b[1;34m(known_face_encodings, face_encoding_to_check, tolerance)\u001b[0m\n\u001b[0;32m    224\u001b[0m     \u001b[1;33m:\u001b[0m\u001b[1;32mreturn\u001b[0m\u001b[1;33m:\u001b[0m \u001b[0mA\u001b[0m \u001b[0mlist\u001b[0m \u001b[0mof\u001b[0m \u001b[1;32mTrue\u001b[0m\u001b[1;33m/\u001b[0m\u001b[1;32mFalse\u001b[0m \u001b[0mvalues\u001b[0m \u001b[0mindicating\u001b[0m \u001b[0mwhich\u001b[0m \u001b[0mknown_face_encodings\u001b[0m \u001b[0mmatch\u001b[0m \u001b[0mthe\u001b[0m \u001b[0mface\u001b[0m \u001b[0mencoding\u001b[0m \u001b[0mto\u001b[0m \u001b[0mcheck\u001b[0m\u001b[1;33m\u001b[0m\u001b[1;33m\u001b[0m\u001b[0m\n\u001b[0;32m    225\u001b[0m     \"\"\"\n\u001b[1;32m--> 226\u001b[1;33m     \u001b[1;32mreturn\u001b[0m \u001b[0mlist\u001b[0m\u001b[1;33m(\u001b[0m\u001b[0mface_distance\u001b[0m\u001b[1;33m(\u001b[0m\u001b[0mknown_face_encodings\u001b[0m\u001b[1;33m,\u001b[0m \u001b[0mface_encoding_to_check\u001b[0m\u001b[1;33m)\u001b[0m \u001b[1;33m<=\u001b[0m \u001b[0mtolerance\u001b[0m\u001b[1;33m)\u001b[0m\u001b[1;33m\u001b[0m\u001b[1;33m\u001b[0m\u001b[0m\n\u001b[0m",
      "\u001b[1;32m~\\Anaconda3\\lib\\site-packages\\face_recognition\\api.py\u001b[0m in \u001b[0;36mface_distance\u001b[1;34m(face_encodings, face_to_compare)\u001b[0m\n\u001b[0;32m     73\u001b[0m         \u001b[1;32mreturn\u001b[0m \u001b[0mnp\u001b[0m\u001b[1;33m.\u001b[0m\u001b[0mempty\u001b[0m\u001b[1;33m(\u001b[0m\u001b[1;33m(\u001b[0m\u001b[1;36m0\u001b[0m\u001b[1;33m)\u001b[0m\u001b[1;33m)\u001b[0m\u001b[1;33m\u001b[0m\u001b[1;33m\u001b[0m\u001b[0m\n\u001b[0;32m     74\u001b[0m \u001b[1;33m\u001b[0m\u001b[0m\n\u001b[1;32m---> 75\u001b[1;33m     \u001b[1;32mreturn\u001b[0m \u001b[0mnp\u001b[0m\u001b[1;33m.\u001b[0m\u001b[0mlinalg\u001b[0m\u001b[1;33m.\u001b[0m\u001b[0mnorm\u001b[0m\u001b[1;33m(\u001b[0m\u001b[0mface_encodings\u001b[0m \u001b[1;33m-\u001b[0m \u001b[0mface_to_compare\u001b[0m\u001b[1;33m,\u001b[0m \u001b[0maxis\u001b[0m\u001b[1;33m=\u001b[0m\u001b[1;36m1\u001b[0m\u001b[1;33m)\u001b[0m\u001b[1;33m\u001b[0m\u001b[1;33m\u001b[0m\u001b[0m\n\u001b[0m\u001b[0;32m     76\u001b[0m \u001b[1;33m\u001b[0m\u001b[0m\n\u001b[0;32m     77\u001b[0m \u001b[1;33m\u001b[0m\u001b[0m\n",
      "\u001b[1;31mValueError\u001b[0m: operands could not be broadcast together with shapes (6,) (128,) "
     ]
    }
   ],
   "source": [
    "import cv2\n",
    "import numpy as np\n",
    "import face_recognition\n",
    "\n",
    "import os\n",
    "from datetime import datetime\n",
    "\n",
    "path= 'imageatten'\n",
    "images=[]\n",
    "classNames =[]\n",
    "myList=os.listdir(path)\n",
    "print(myList)\n",
    "for cl in myList:\n",
    "    curImg = cv2.imread(f'{path}/{cl}')\n",
    "    images.append(curImg)\n",
    "    classNames.append(os.path.splitext(cl)[0])\n",
    "print(classNames)\n",
    "\n",
    "def findEncodings(images):\n",
    "    encodeList = []\n",
    "    for img in images:\n",
    "        \n",
    "        img = cv2.cvtColor(img, cv2.COLOR_BGR2RGB)\n",
    "        encode= face_recognition.face_encodings(img)[0]\n",
    "        encodeList.append(encode)\n",
    "    return encodeList\n",
    "def markAttendance(name):\n",
    "    with open('Attendance.csv','r+') as f:\n",
    "        myDataList = f.readlines()\n",
    "        nameList = []\n",
    "        for line in myDataList:\n",
    "            entry = line.split(',')\n",
    "            nameList.append(entry[0])\n",
    "        if name not in nameList:\n",
    "            now = datetime.now()\n",
    "            dtString = now.strftime('%H:%M:%S')\n",
    "            d = now.strftime('%Y-%m-%dT%H:%MZ')\n",
    "            f.writelines(f'\\n{name},{dtString},{d}')\n",
    "            \n",
    "        \n",
    "\n",
    "\n",
    "\n",
    "encodeListKnown= findEncodings(images)\n",
    "print(\"Encoding complete\")\n",
    "\n",
    "cap = cv2.VideoCapture(0)\n",
    "\n",
    "while True:\n",
    "    success, img= cap.read()\n",
    "    imgs= cv2.resize(img,(0,0),None,0.25,0.25)\n",
    "    imgs = cv2.cvtColor(imgs, cv2.COLOR_BGR2RGB)\n",
    "    \n",
    "    \n",
    "    facesCurFrame= face_recognition.face_locations(imgs)\n",
    "    encodesCurFrame= face_recognition.face_encodings(imgs,facesCurFrame)\n",
    "    \n",
    "    for encodeFace,faceLoc in zip(encodesCurFrame,facesCurFrame):\n",
    "        matches=  face_recognition.compare_faces(encodeListKnown,encodeFace)\n",
    "        faceDis = face_recognition.face_distance(encodeListKnown,encodeFace)\n",
    "        #print(faceDis)\n",
    "        matchIndex = np.argmin(faceDis)\n",
    "        \n",
    "        if matches[matchIndex]:\n",
    "            name= classNames[matchIndex].upper()\n",
    "            #print(name)\n",
    "            y1,x2,y2,x1 = faceLoc\n",
    "            y1 ,x2 ,y2 ,x1  = y1*4 ,x2*4 ,y2*4 ,x1*4\n",
    "            cv2.rectangle(img,(x1,y1),(x2,y2),(0,255,0),2)\n",
    "            cv2.rectangle(img,(x1,y2-35),(x2,y2),(0,255,0),cv2.FILLED)\n",
    "            cv2.putText(img,name,(x1+6,y2-6),cv2.FONT_HERSHEY_COMPLEX,1,(255,255,255),2)\n",
    "            markAttendance(name)\n",
    "            \n",
    "    cv2.imshow('Webcam',img)\n",
    "    cv2.waitKey(1)"
   ]
  },
  {
   "cell_type": "code",
   "execution_count": null,
   "metadata": {},
   "outputs": [],
   "source": []
  }
 ],
 "metadata": {
  "kernelspec": {
   "display_name": "Python 3",
   "language": "python",
   "name": "python3"
  },
  "language_info": {
   "codemirror_mode": {
    "name": "ipython",
    "version": 3
   },
   "file_extension": ".py",
   "mimetype": "text/x-python",
   "name": "python",
   "nbconvert_exporter": "python",
   "pygments_lexer": "ipython3",
   "version": "3.7.3"
  }
 },
 "nbformat": 4,
 "nbformat_minor": 2
}
